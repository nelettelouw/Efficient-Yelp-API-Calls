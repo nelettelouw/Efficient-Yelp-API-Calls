{
 "cells": [
  {
   "cell_type": "markdown",
   "id": "fe32eb9a-c450-438b-83d1-fff3a4d5f521",
   "metadata": {},
   "source": [
    "# **Efficient Yelp API Calls**"
   ]
  },
  {
   "cell_type": "code",
   "execution_count": 1,
   "id": "08e93a7c-3d5a-40df-a7f1-41bd8708dac1",
   "metadata": {},
   "outputs": [],
   "source": [
    "# Standard Imports\n",
    "import numpy as np\n",
    "import pandas as pd\n",
    "import matplotlib.pyplot as plt\n",
    "import seaborn as sns\n",
    "\n",
    "# Additional Imports\n",
    "import os, json, math, time\n",
    "from yelpapi import YelpAPI\n",
    "from tqdm.notebook import tqdm_notebook"
   ]
  },
  {
   "cell_type": "markdown",
   "id": "cd7ac8fb-f443-4f5c-9ceb-5dd4859615c9",
   "metadata": {},
   "source": [
    "### **Credentials and Accessing the API**"
   ]
  },
  {
   "cell_type": "code",
   "execution_count": 2,
   "id": "48b41350-2ee4-4dbf-b6d8-8f982e7a7d15",
   "metadata": {},
   "outputs": [],
   "source": [
    "# Load API Credentials\n",
    "with open('/Users/NelLouw/.secret/yelp_api.json') as f:   \n",
    "    login = json.load(f)\n",
    "    \n",
    "# Instantiate YelpAPI Variable\n",
    "yelp_api = YelpAPI(login['api-key'], timeout_s=5.0)"
   ]
  },
  {
   "cell_type": "markdown",
   "id": "d460d499-da35-4e5f-9b11-9c99a02854ab",
   "metadata": {},
   "source": [
    "### **Define Search**"
   ]
  },
  {
   "cell_type": "markdown",
   "id": "1554b3da-a370-4b66-80fa-316cab418b29",
   "metadata": {},
   "source": [
    "Use the Yelp API to search your favorite city for a cuisine type of your choice. <br>\n",
    "Extract all of the results from your search and compile them into one dataframe using a for loop"
   ]
  },
  {
   "cell_type": "code",
   "execution_count": 3,
   "id": "5d3321ea-d5bb-423d-a9e1-05db9ed0dbf8",
   "metadata": {},
   "outputs": [],
   "source": [
    "# Set our API call parameters \n",
    "LOCATION = 'NY,NY'\n",
    "TERM = 'Noodles' # Search Term #"
   ]
  },
  {
   "cell_type": "markdown",
   "id": "7c83744a-5330-4dc4-9f4a-42a895e8fa7c",
   "metadata": {},
   "source": [
    "### **Create a JSON file where your results will be saved**"
   ]
  },
  {
   "cell_type": "code",
   "execution_count": 4,
   "id": "e8f93221-f434-461c-aa48-f68bd9813ed6",
   "metadata": {},
   "outputs": [
    {
     "data": {
      "text/plain": [
       "'Data/results_in_progress_NY_Noodles.json'"
      ]
     },
     "execution_count": 4,
     "metadata": {},
     "output_type": "execute_result"
    }
   ],
   "source": [
    "# Specifying JSON_FILE filename (can include a folder)\n",
    "# include the search terms in the filename\n",
    "JSON_FILE = \"Data/results_in_progress_NY_Noodles.json\"\n",
    "JSON_FILE"
   ]
  },
  {
   "cell_type": "markdown",
   "id": "25d5e5e8-8fb6-40d0-92ee-6c1626b23b30",
   "metadata": {},
   "source": [
    "- #### **Create a results-in-progress JSON file, but only if it doesn't exist**"
   ]
  },
  {
   "cell_type": "code",
   "execution_count": 5,
   "id": "19973daf-9acc-4d75-aede-9b3b48b56cc1",
   "metadata": {},
   "outputs": [
    {
     "name": "stdout",
     "output_type": "stream",
     "text": [
      "[i] Data/results_in_progress_NY_Noodles.json already exists.\n"
     ]
    }
   ],
   "source": [
    "## Check if JSON_FILE exists\n",
    "file_exists = os.path.isfile(JSON_FILE)\n",
    "## If it does not exist: \n",
    "if file_exists == False:\n",
    "    \n",
    "    ## CREATE ANY NEEDED FOLDERS\n",
    "    # Get the Folder Name only\n",
    "    folder = os.path.dirname(JSON_FILE)\n",
    "    ## If JSON_FILE included a folder:\n",
    "    if len(folder)>0:\n",
    "        # create the folder\n",
    "        os.makedirs(folder,exist_ok=True)\n",
    "        \n",
    "        \n",
    "    ## INFORM USER AND SAVE EMPTY LIST\n",
    "    print(f'[i] {JSON_FILE} not found. Saving empty list to file.')\n",
    "    \n",
    "    \n",
    "    # save an empty list\n",
    "    with open(JSON_FILE,'w') as f:\n",
    "        json.dump([],f)  \n",
    "# If it exists, inform user\n",
    "else:\n",
    "    print(f\"[i] {JSON_FILE} already exists.\")"
   ]
  },
  {
   "cell_type": "markdown",
   "id": "aca6b81a-4b41-41cf-8406-875bef6ebb2a",
   "metadata": {},
   "source": [
    "- #### **Determine how many results are already in the file**"
   ]
  },
  {
   "cell_type": "code",
   "execution_count": 6,
   "id": "dfb25249-53d5-441a-8855-2bf3829d0a58",
   "metadata": {},
   "outputs": [
    {
     "name": "stdout",
     "output_type": "stream",
     "text": [
      "- 0 previous results found.\n"
     ]
    }
   ],
   "source": [
    "## Load previous results and use len of results for offset\n",
    "with open(JSON_FILE,'r') as f:\n",
    "    previous_results = json.load(f)\n",
    "    \n",
    "## set offset based on previous results\n",
    "n_results = len(previous_results)\n",
    "print(f'- {n_results} previous results found.')"
   ]
  },
  {
   "cell_type": "markdown",
   "id": "1fef0b29-9d7b-498f-bce4-fa314df08e88",
   "metadata": {},
   "source": [
    "- #### **Figure out how many pages of results we will need**"
   ]
  },
  {
   "cell_type": "code",
   "execution_count": 7,
   "id": "5ee90976-9c68-4cfb-a874-a00157e0ea50",
   "metadata": {},
   "outputs": [
    {
     "data": {
      "text/plain": [
       "dict_keys(['businesses', 'total', 'region'])"
      ]
     },
     "execution_count": 7,
     "metadata": {},
     "output_type": "execute_result"
    }
   ],
   "source": [
    "# use our yelp_api variable's search_query method to perform our API call\n",
    "results = yelp_api.search_query(location=LOCATION,\n",
    "                                term=TERM,\n",
    "                               offset=n_results)\n",
    "results.keys()"
   ]
  },
  {
   "cell_type": "code",
   "execution_count": 8,
   "id": "09ff68a8-f064-4ad2-bce1-e82cd717ad81",
   "metadata": {},
   "outputs": [
    {
     "data": {
      "text/plain": [
       "12000"
      ]
     },
     "execution_count": 8,
     "metadata": {},
     "output_type": "execute_result"
    }
   ],
   "source": [
    "## How many results total?\n",
    "total_results = results['total']\n",
    "total_results"
   ]
  },
  {
   "cell_type": "code",
   "execution_count": 9,
   "id": "bc545a6c-2074-43a1-b150-b2abc6b700aa",
   "metadata": {},
   "outputs": [
    {
     "data": {
      "text/plain": [
       "20"
      ]
     },
     "execution_count": 9,
     "metadata": {},
     "output_type": "execute_result"
    }
   ],
   "source": [
    "## How many did we get the details for?\n",
    "results_per_page = len(results['businesses'])\n",
    "results_per_page"
   ]
  },
  {
   "cell_type": "code",
   "execution_count": 10,
   "id": "aedf224c-4915-4745-b624-2378371a9e4d",
   "metadata": {},
   "outputs": [
    {
     "data": {
      "text/plain": [
       "600"
      ]
     },
     "execution_count": 10,
     "metadata": {},
     "output_type": "execute_result"
    }
   ],
   "source": [
    "# Use math.ceil to round up for the total number of pages of results.\n",
    "n_pages = math.ceil((results['total']-n_results)/ results_per_page)\n",
    "n_pages"
   ]
  },
  {
   "cell_type": "markdown",
   "id": "a09d8635-98a8-42cf-8649-1d6ba0d56551",
   "metadata": {},
   "source": [
    "- #### **Add this page of results to .json file**"
   ]
  },
  {
   "cell_type": "code",
   "execution_count": 13,
   "id": "d1a4a60a-6c1f-4cfc-b133-5e325326fab1",
   "metadata": {},
   "outputs": [],
   "source": [
    "# join new results with old list with extend and save to file\n",
    "previous_results.extend(results['businesses'])  \n",
    "with open(JSON_FILE,'w') as f:\n",
    "     json.dump(previous_results,f)"
   ]
  },
  {
   "cell_type": "markdown",
   "id": "de980b78-2064-40c9-80ca-2beb91b1742b",
   "metadata": {},
   "source": [
    "### **Create a Function**"
   ]
  },
  {
   "cell_type": "code",
   "execution_count": 15,
   "id": "b1c00f3c-1ad1-4205-a1bc-8bd2f542e317",
   "metadata": {},
   "outputs": [],
   "source": [
    "def create_json_file(JSON_FILE, delete_if_exists=False):\n",
    "    # Check if JSON_FILE exists\n",
    "    file_exists = os.path.isfile(JSON_FILE)\n",
    "\n",
    "    # If it DOES exist:\n",
    "    if file_exists == True:\n",
    "        # Check if user wants to delete if exists\n",
    "        if delete_if_exists:\n",
    "            print(f\"[!] {JSON_FILE} already exists. Deleting previous file...\")\n",
    "            # delete file\n",
    "            os.remove(JSON_FILE)\n",
    "            # Recursive call to function after old file deleted\n",
    "            create_json_file(JSON_FILE, delete_if_exists=False)\n",
    "        else:\n",
    "            print(f\"[i] {JSON_FILE} already exists.\")\n",
    "    \n",
    "    # If it does NOT exist:\n",
    "    else:\n",
    "        # INFORM USER AND SAVE EMPTY LIST\n",
    "        print(f\"[i] {JSON_FILE} not found. Saving empty list to new file.\")\n",
    "\n",
    "        # CREATE ANY NEEDED FOLDERS\n",
    "        # Get the Folder Name only\n",
    "        folder = os.path.dirname(JSON_FILE)\n",
    "\n",
    "        # If JSON_FILE included a folder:\n",
    "        if len(folder) > 0:\n",
    "            # create the folder\n",
    "            os.makedirs(folder, exist_ok=True)\n",
    "        \n",
    "        # Save empty list to start the json file\n",
    "        with open(JSON_FILE, 'w') as f:\n",
    "            json.dump([], f)\n",
    "\n",
    "# Example usage:\n",
    "# create_json_file(\"example.json\", delete_if_exists=True)"
   ]
  },
  {
   "cell_type": "code",
   "execution_count": 16,
   "id": "7ffad89c-a935-454e-b46e-68ef32fcd864",
   "metadata": {},
   "outputs": [
    {
     "name": "stdout",
     "output_type": "stream",
     "text": [
      "[!] Data/results_in_progress_NY_Noodles.json already exists. Deleting previous file...\n",
      "[i] Data/results_in_progress_NY_Noodles.json not found. Saving empty list to new file.\n",
      "- 0 previous results found.\n"
     ]
    },
    {
     "data": {
      "text/plain": [
       "595"
      ]
     },
     "execution_count": 16,
     "metadata": {},
     "output_type": "execute_result"
    }
   ],
   "source": [
    "## Create a new empty json file (exist the previous if it exists)\n",
    "create_json_file(JSON_FILE, delete_if_exists=True)\n",
    "## Load previous results and use len of results for offset\n",
    "with open(JSON_FILE,'r') as f:\n",
    "    previous_results = json.load(f)\n",
    "    \n",
    "## set offset based on previous results\n",
    "n_results = len(previous_results)\n",
    "print(f'- {n_results} previous results found.')\n",
    "# use our yelp_api variable's search_query method to perform our API call\n",
    "results = yelp_api.search_query(location=LOCATION,\n",
    "                                term=TERM,\n",
    "                               offset=n_results)\n",
    "## How many results total?\n",
    "total_results = results['total']\n",
    "## How many did we get the details for?\n",
    "results_per_page = len(results['businesses'])\n",
    "# Use math.ceil to round up for the total number of pages of results.\n",
    "n_pages = math.ceil((results['total']-n_results)/ results_per_page)\n",
    "n_pages"
   ]
  },
  {
   "cell_type": "code",
   "execution_count": 17,
   "id": "3c85df21-92ee-4ada-9bd0-5011a6acdec3",
   "metadata": {},
   "outputs": [
    {
     "data": {
      "application/vnd.jupyter.widget-view+json": {
       "model_id": "ccbec10304f34160bc2e36356b12a47e",
       "version_major": 2,
       "version_minor": 0
      },
      "text/plain": [
       "  0%|          | 0/595 [00:00<?, ?it/s]"
      ]
     },
     "metadata": {},
     "output_type": "display_data"
    },
    {
     "name": "stdout",
     "output_type": "stream",
     "text": [
      "Exceeded 1000 api calls. Stopping loop.\n"
     ]
    }
   ],
   "source": [
    "for i in tqdm_notebook( range(1,n_pages+1)):\n",
    "    \n",
    "    ## Read in results in progress file and check the length\n",
    "    with open(JSON_FILE, 'r') as f:\n",
    "        previous_results = json.load(f)\n",
    "    ## save number of results for to use as offset\n",
    "    n_results = len(previous_results)\n",
    "    \n",
    "    if (n_results + results_per_page) > 1000:\n",
    "        print('Exceeded 1000 api calls. Stopping loop.')\n",
    "        break## use n_results as the OFFSET \n",
    "    results = yelp_api.search_query(location=LOCATION,\n",
    "                                    term=TERM, \n",
    "                                    offset=n_results)\n",
    "    \n",
    "    \n",
    "    \n",
    "    ## append new results and save to file\n",
    "    previous_results.extend(results['businesses'])\n",
    "    \n",
    "    # display(previous_results)\n",
    "    with open(JSON_FILE,'w') as f:\n",
    "        json.dump(previous_results,f)\n",
    "    \n",
    "    time.sleep(.2)\n",
    "\n",
    "# Exceeded 1000 api calls. Stopping loop."
   ]
  },
  {
   "cell_type": "code",
   "execution_count": 18,
   "id": "d19abfe6-8049-4549-ac40-b6172a1ea3e3",
   "metadata": {},
   "outputs": [
    {
     "data": {
      "text/html": [
       "<div>\n",
       "<style scoped>\n",
       "    .dataframe tbody tr th:only-of-type {\n",
       "        vertical-align: middle;\n",
       "    }\n",
       "\n",
       "    .dataframe tbody tr th {\n",
       "        vertical-align: top;\n",
       "    }\n",
       "\n",
       "    .dataframe thead th {\n",
       "        text-align: right;\n",
       "    }\n",
       "</style>\n",
       "<table border=\"1\" class=\"dataframe\">\n",
       "  <thead>\n",
       "    <tr style=\"text-align: right;\">\n",
       "      <th></th>\n",
       "      <th>id</th>\n",
       "      <th>alias</th>\n",
       "      <th>name</th>\n",
       "      <th>image_url</th>\n",
       "      <th>is_closed</th>\n",
       "      <th>url</th>\n",
       "      <th>review_count</th>\n",
       "      <th>categories</th>\n",
       "      <th>rating</th>\n",
       "      <th>coordinates</th>\n",
       "      <th>transactions</th>\n",
       "      <th>price</th>\n",
       "      <th>location</th>\n",
       "      <th>phone</th>\n",
       "      <th>display_phone</th>\n",
       "      <th>distance</th>\n",
       "    </tr>\n",
       "  </thead>\n",
       "  <tbody>\n",
       "    <tr>\n",
       "      <th>0</th>\n",
       "      <td>oe8GEFE4QLFAKt87y7zcgA</td>\n",
       "      <td>very-fresh-noodles-new-york</td>\n",
       "      <td>Very Fresh Noodles</td>\n",
       "      <td>https://s3-media2.fl.yelpcdn.com/bphoto/gRqfWs...</td>\n",
       "      <td>False</td>\n",
       "      <td>https://www.yelp.com/biz/very-fresh-noodles-ne...</td>\n",
       "      <td>1483</td>\n",
       "      <td>[{'alias': 'taiwanese', 'title': 'Taiwanese'},...</td>\n",
       "      <td>4.5</td>\n",
       "      <td>{'latitude': 40.74207, 'longitude': -74.00565}</td>\n",
       "      <td>[delivery, pickup]</td>\n",
       "      <td>$$</td>\n",
       "      <td>{'address1': '409 W 15th St', 'address2': None...</td>\n",
       "      <td>+13322156161</td>\n",
       "      <td>(332) 215-6161</td>\n",
       "      <td>4183.626316</td>\n",
       "    </tr>\n",
       "    <tr>\n",
       "      <th>1</th>\n",
       "      <td>lynQoI3w_pzYfHGeuUU-Qg</td>\n",
       "      <td>shu-jiao-fu-zhou-new-york-2</td>\n",
       "      <td>Shu Jiao Fu Zhou</td>\n",
       "      <td>https://s3-media2.fl.yelpcdn.com/bphoto/Nmkgn1...</td>\n",
       "      <td>False</td>\n",
       "      <td>https://www.yelp.com/biz/shu-jiao-fu-zhou-new-...</td>\n",
       "      <td>1333</td>\n",
       "      <td>[{'alias': 'chinese', 'title': 'Chinese'}]</td>\n",
       "      <td>4.5</td>\n",
       "      <td>{'latitude': 40.7174109, 'longitude': -73.9921...</td>\n",
       "      <td>[delivery, pickup]</td>\n",
       "      <td>$</td>\n",
       "      <td>{'address1': '295 Grand St', 'address2': None,...</td>\n",
       "      <td>+12126252532</td>\n",
       "      <td>(212) 625-2532</td>\n",
       "      <td>1343.336119</td>\n",
       "    </tr>\n",
       "    <tr>\n",
       "      <th>2</th>\n",
       "      <td>utVNm8OfDl_H154lMlcMlA</td>\n",
       "      <td>zhongzhong-noodles-brooklyn-brooklyn-3</td>\n",
       "      <td>Zhongzhong Noodles - Brooklyn</td>\n",
       "      <td>https://s3-media3.fl.yelpcdn.com/bphoto/u8Dy1H...</td>\n",
       "      <td>False</td>\n",
       "      <td>https://www.yelp.com/biz/zhongzhong-noodles-br...</td>\n",
       "      <td>9</td>\n",
       "      <td>[{'alias': 'chinese', 'title': 'Chinese'}, {'a...</td>\n",
       "      <td>5.0</td>\n",
       "      <td>{'latitude': 40.69301, 'longitude': -73.97198}</td>\n",
       "      <td>[delivery, pickup]</td>\n",
       "      <td>NaN</td>\n",
       "      <td>{'address1': '154 Adelphi St', 'address2': Non...</td>\n",
       "      <td></td>\n",
       "      <td></td>\n",
       "      <td>2344.671670</td>\n",
       "    </tr>\n",
       "    <tr>\n",
       "      <th>3</th>\n",
       "      <td>97q5nUQTuBo_h00XCxna2A</td>\n",
       "      <td>tasty-hand-pulled-noodles-new-york</td>\n",
       "      <td>Tasty Hand-Pulled Noodles</td>\n",
       "      <td>https://s3-media4.fl.yelpcdn.com/bphoto/FJttNY...</td>\n",
       "      <td>False</td>\n",
       "      <td>https://www.yelp.com/biz/tasty-hand-pulled-noo...</td>\n",
       "      <td>1864</td>\n",
       "      <td>[{'alias': 'chinese', 'title': 'Chinese'}, {'a...</td>\n",
       "      <td>4.0</td>\n",
       "      <td>{'latitude': 40.7142, 'longitude': -73.99787}</td>\n",
       "      <td>[delivery, pickup]</td>\n",
       "      <td>$$</td>\n",
       "      <td>{'address1': '1 Doyers St', 'address2': '', 'a...</td>\n",
       "      <td>+12127911817</td>\n",
       "      <td>(212) 791-1817</td>\n",
       "      <td>1017.728241</td>\n",
       "    </tr>\n",
       "    <tr>\n",
       "      <th>4</th>\n",
       "      <td>7bpZZUpEclhn29wWVqFsKA</td>\n",
       "      <td>lucky-rabbit-noodles-brooklyn</td>\n",
       "      <td>Lucky Rabbit Noodles</td>\n",
       "      <td>https://s3-media2.fl.yelpcdn.com/bphoto/hD5Y2U...</td>\n",
       "      <td>False</td>\n",
       "      <td>https://www.yelp.com/biz/lucky-rabbit-noodles-...</td>\n",
       "      <td>53</td>\n",
       "      <td>[{'alias': 'tapasmallplates', 'title': 'Tapas/...</td>\n",
       "      <td>4.5</td>\n",
       "      <td>{'latitude': 40.70375, 'longitude': -73.98809}</td>\n",
       "      <td>[delivery, pickup]</td>\n",
       "      <td>$$</td>\n",
       "      <td>{'address1': '140 Plymouth St', 'address2': ''...</td>\n",
       "      <td>+13479160098</td>\n",
       "      <td>(347) 916-0098</td>\n",
       "      <td>550.701426</td>\n",
       "    </tr>\n",
       "  </tbody>\n",
       "</table>\n",
       "</div>"
      ],
      "text/plain": [
       "                       id                                   alias  \\\n",
       "0  oe8GEFE4QLFAKt87y7zcgA             very-fresh-noodles-new-york   \n",
       "1  lynQoI3w_pzYfHGeuUU-Qg             shu-jiao-fu-zhou-new-york-2   \n",
       "2  utVNm8OfDl_H154lMlcMlA  zhongzhong-noodles-brooklyn-brooklyn-3   \n",
       "3  97q5nUQTuBo_h00XCxna2A      tasty-hand-pulled-noodles-new-york   \n",
       "4  7bpZZUpEclhn29wWVqFsKA           lucky-rabbit-noodles-brooklyn   \n",
       "\n",
       "                            name  \\\n",
       "0             Very Fresh Noodles   \n",
       "1               Shu Jiao Fu Zhou   \n",
       "2  Zhongzhong Noodles - Brooklyn   \n",
       "3      Tasty Hand-Pulled Noodles   \n",
       "4           Lucky Rabbit Noodles   \n",
       "\n",
       "                                           image_url  is_closed  \\\n",
       "0  https://s3-media2.fl.yelpcdn.com/bphoto/gRqfWs...      False   \n",
       "1  https://s3-media2.fl.yelpcdn.com/bphoto/Nmkgn1...      False   \n",
       "2  https://s3-media3.fl.yelpcdn.com/bphoto/u8Dy1H...      False   \n",
       "3  https://s3-media4.fl.yelpcdn.com/bphoto/FJttNY...      False   \n",
       "4  https://s3-media2.fl.yelpcdn.com/bphoto/hD5Y2U...      False   \n",
       "\n",
       "                                                 url  review_count  \\\n",
       "0  https://www.yelp.com/biz/very-fresh-noodles-ne...          1483   \n",
       "1  https://www.yelp.com/biz/shu-jiao-fu-zhou-new-...          1333   \n",
       "2  https://www.yelp.com/biz/zhongzhong-noodles-br...             9   \n",
       "3  https://www.yelp.com/biz/tasty-hand-pulled-noo...          1864   \n",
       "4  https://www.yelp.com/biz/lucky-rabbit-noodles-...            53   \n",
       "\n",
       "                                          categories  rating  \\\n",
       "0  [{'alias': 'taiwanese', 'title': 'Taiwanese'},...     4.5   \n",
       "1         [{'alias': 'chinese', 'title': 'Chinese'}]     4.5   \n",
       "2  [{'alias': 'chinese', 'title': 'Chinese'}, {'a...     5.0   \n",
       "3  [{'alias': 'chinese', 'title': 'Chinese'}, {'a...     4.0   \n",
       "4  [{'alias': 'tapasmallplates', 'title': 'Tapas/...     4.5   \n",
       "\n",
       "                                         coordinates        transactions  \\\n",
       "0     {'latitude': 40.74207, 'longitude': -74.00565}  [delivery, pickup]   \n",
       "1  {'latitude': 40.7174109, 'longitude': -73.9921...  [delivery, pickup]   \n",
       "2     {'latitude': 40.69301, 'longitude': -73.97198}  [delivery, pickup]   \n",
       "3      {'latitude': 40.7142, 'longitude': -73.99787}  [delivery, pickup]   \n",
       "4     {'latitude': 40.70375, 'longitude': -73.98809}  [delivery, pickup]   \n",
       "\n",
       "  price                                           location         phone  \\\n",
       "0    $$  {'address1': '409 W 15th St', 'address2': None...  +13322156161   \n",
       "1     $  {'address1': '295 Grand St', 'address2': None,...  +12126252532   \n",
       "2   NaN  {'address1': '154 Adelphi St', 'address2': Non...                 \n",
       "3    $$  {'address1': '1 Doyers St', 'address2': '', 'a...  +12127911817   \n",
       "4    $$  {'address1': '140 Plymouth St', 'address2': ''...  +13479160098   \n",
       "\n",
       "    display_phone     distance  \n",
       "0  (332) 215-6161  4183.626316  \n",
       "1  (212) 625-2532  1343.336119  \n",
       "2                  2344.671670  \n",
       "3  (212) 791-1817  1017.728241  \n",
       "4  (347) 916-0098   550.701426  "
      ]
     },
     "metadata": {},
     "output_type": "display_data"
    },
    {
     "data": {
      "text/html": [
       "<div>\n",
       "<style scoped>\n",
       "    .dataframe tbody tr th:only-of-type {\n",
       "        vertical-align: middle;\n",
       "    }\n",
       "\n",
       "    .dataframe tbody tr th {\n",
       "        vertical-align: top;\n",
       "    }\n",
       "\n",
       "    .dataframe thead th {\n",
       "        text-align: right;\n",
       "    }\n",
       "</style>\n",
       "<table border=\"1\" class=\"dataframe\">\n",
       "  <thead>\n",
       "    <tr style=\"text-align: right;\">\n",
       "      <th></th>\n",
       "      <th>id</th>\n",
       "      <th>alias</th>\n",
       "      <th>name</th>\n",
       "      <th>image_url</th>\n",
       "      <th>is_closed</th>\n",
       "      <th>url</th>\n",
       "      <th>review_count</th>\n",
       "      <th>categories</th>\n",
       "      <th>rating</th>\n",
       "      <th>coordinates</th>\n",
       "      <th>transactions</th>\n",
       "      <th>price</th>\n",
       "      <th>location</th>\n",
       "      <th>phone</th>\n",
       "      <th>display_phone</th>\n",
       "      <th>distance</th>\n",
       "    </tr>\n",
       "  </thead>\n",
       "  <tbody>\n",
       "    <tr>\n",
       "      <th>995</th>\n",
       "      <td>B9Mbi12NpBJkZcRtQNtMBA</td>\n",
       "      <td>malaysia-grill-new-york</td>\n",
       "      <td>Malaysia Grill</td>\n",
       "      <td>https://s3-media2.fl.yelpcdn.com/bphoto/1VH4B8...</td>\n",
       "      <td>False</td>\n",
       "      <td>https://www.yelp.com/biz/malaysia-grill-new-yo...</td>\n",
       "      <td>351</td>\n",
       "      <td>[{'alias': 'malaysian', 'title': 'Malaysian'}]</td>\n",
       "      <td>4.0</td>\n",
       "      <td>{'latitude': 40.79948, 'longitude': -73.96775}</td>\n",
       "      <td>[pickup, delivery]</td>\n",
       "      <td>$$</td>\n",
       "      <td>{'address1': '224 W 104th St', 'address2': '',...</td>\n",
       "      <td>+12125791333</td>\n",
       "      <td>(212) 579-1333</td>\n",
       "      <td>10683.588057</td>\n",
       "    </tr>\n",
       "    <tr>\n",
       "      <th>996</th>\n",
       "      <td>IqgiEIUVzVrHuhNTy-mcJw</td>\n",
       "      <td>soup-kiosk-new-york</td>\n",
       "      <td>Soup Kiosk</td>\n",
       "      <td>https://s3-media3.fl.yelpcdn.com/bphoto/a1lCsM...</td>\n",
       "      <td>False</td>\n",
       "      <td>https://www.yelp.com/biz/soup-kiosk-new-york?a...</td>\n",
       "      <td>70</td>\n",
       "      <td>[{'alias': 'foodstands', 'title': 'Food Stands...</td>\n",
       "      <td>4.0</td>\n",
       "      <td>{'latitude': 40.72457, 'longitude': -73.99878}</td>\n",
       "      <td>[delivery]</td>\n",
       "      <td>$</td>\n",
       "      <td>{'address1': '94 Prince St', 'address2': None,...</td>\n",
       "      <td></td>\n",
       "      <td></td>\n",
       "      <td>2158.990822</td>\n",
       "    </tr>\n",
       "    <tr>\n",
       "      <th>997</th>\n",
       "      <td>hZDZ--W5gd7E0W8lz_feLg</td>\n",
       "      <td>abc-eats-food-hall-long-island-city</td>\n",
       "      <td>ABC Eats Food Hall</td>\n",
       "      <td>https://s3-media1.fl.yelpcdn.com/bphoto/kLmdwb...</td>\n",
       "      <td>False</td>\n",
       "      <td>https://www.yelp.com/biz/abc-eats-food-hall-lo...</td>\n",
       "      <td>42</td>\n",
       "      <td>[{'alias': 'bubbletea', 'title': 'Bubble Tea'}...</td>\n",
       "      <td>4.0</td>\n",
       "      <td>{'latitude': 40.745231028373816, 'longitude': ...</td>\n",
       "      <td>[pickup, delivery]</td>\n",
       "      <td>$$</td>\n",
       "      <td>{'address1': '22-22 Jackson Ave', 'address2': ...</td>\n",
       "      <td>+17183925737</td>\n",
       "      <td>(718) 392-5737</td>\n",
       "      <td>5967.994581</td>\n",
       "    </tr>\n",
       "    <tr>\n",
       "      <th>998</th>\n",
       "      <td>AILf_L7I9vJ2pyHmSo9v8Q</td>\n",
       "      <td>obao-new-york-4</td>\n",
       "      <td>OBAO</td>\n",
       "      <td>https://s3-media4.fl.yelpcdn.com/bphoto/Xopn2B...</td>\n",
       "      <td>False</td>\n",
       "      <td>https://www.yelp.com/biz/obao-new-york-4?adjus...</td>\n",
       "      <td>1186</td>\n",
       "      <td>[{'alias': 'asianfusion', 'title': 'Asian Fusi...</td>\n",
       "      <td>4.0</td>\n",
       "      <td>{'latitude': 40.75717754, 'longitude': -73.968...</td>\n",
       "      <td>[pickup, delivery]</td>\n",
       "      <td>$$</td>\n",
       "      <td>{'address1': '222 E 53rd St', 'address2': '', ...</td>\n",
       "      <td>+12123085588</td>\n",
       "      <td>(212) 308-5588</td>\n",
       "      <td>6147.662373</td>\n",
       "    </tr>\n",
       "    <tr>\n",
       "      <th>999</th>\n",
       "      <td>mnXrPqOVbX_06D9OAo4dLA</td>\n",
       "      <td>atti-brooklyn</td>\n",
       "      <td>Atti</td>\n",
       "      <td>https://s3-media4.fl.yelpcdn.com/bphoto/SVPvsI...</td>\n",
       "      <td>False</td>\n",
       "      <td>https://www.yelp.com/biz/atti-brooklyn?adjust_...</td>\n",
       "      <td>73</td>\n",
       "      <td>[{'alias': 'korean', 'title': 'Korean'}, {'ali...</td>\n",
       "      <td>4.5</td>\n",
       "      <td>{'latitude': 40.68841151989921, 'longitude': -...</td>\n",
       "      <td>[pickup, delivery]</td>\n",
       "      <td>$$$$</td>\n",
       "      <td>{'address1': '294 Livingston St', 'address2': ...</td>\n",
       "      <td>+19179091122</td>\n",
       "      <td>(917) 909-1122</td>\n",
       "      <td>2123.675412</td>\n",
       "    </tr>\n",
       "  </tbody>\n",
       "</table>\n",
       "</div>"
      ],
      "text/plain": [
       "                         id                                alias  \\\n",
       "995  B9Mbi12NpBJkZcRtQNtMBA              malaysia-grill-new-york   \n",
       "996  IqgiEIUVzVrHuhNTy-mcJw                  soup-kiosk-new-york   \n",
       "997  hZDZ--W5gd7E0W8lz_feLg  abc-eats-food-hall-long-island-city   \n",
       "998  AILf_L7I9vJ2pyHmSo9v8Q                      obao-new-york-4   \n",
       "999  mnXrPqOVbX_06D9OAo4dLA                        atti-brooklyn   \n",
       "\n",
       "                   name                                          image_url  \\\n",
       "995      Malaysia Grill  https://s3-media2.fl.yelpcdn.com/bphoto/1VH4B8...   \n",
       "996          Soup Kiosk  https://s3-media3.fl.yelpcdn.com/bphoto/a1lCsM...   \n",
       "997  ABC Eats Food Hall  https://s3-media1.fl.yelpcdn.com/bphoto/kLmdwb...   \n",
       "998                OBAO  https://s3-media4.fl.yelpcdn.com/bphoto/Xopn2B...   \n",
       "999                Atti  https://s3-media4.fl.yelpcdn.com/bphoto/SVPvsI...   \n",
       "\n",
       "     is_closed                                                url  \\\n",
       "995      False  https://www.yelp.com/biz/malaysia-grill-new-yo...   \n",
       "996      False  https://www.yelp.com/biz/soup-kiosk-new-york?a...   \n",
       "997      False  https://www.yelp.com/biz/abc-eats-food-hall-lo...   \n",
       "998      False  https://www.yelp.com/biz/obao-new-york-4?adjus...   \n",
       "999      False  https://www.yelp.com/biz/atti-brooklyn?adjust_...   \n",
       "\n",
       "     review_count                                         categories  rating  \\\n",
       "995           351     [{'alias': 'malaysian', 'title': 'Malaysian'}]     4.0   \n",
       "996            70  [{'alias': 'foodstands', 'title': 'Food Stands...     4.0   \n",
       "997            42  [{'alias': 'bubbletea', 'title': 'Bubble Tea'}...     4.0   \n",
       "998          1186  [{'alias': 'asianfusion', 'title': 'Asian Fusi...     4.0   \n",
       "999            73  [{'alias': 'korean', 'title': 'Korean'}, {'ali...     4.5   \n",
       "\n",
       "                                           coordinates        transactions  \\\n",
       "995     {'latitude': 40.79948, 'longitude': -73.96775}  [pickup, delivery]   \n",
       "996     {'latitude': 40.72457, 'longitude': -73.99878}          [delivery]   \n",
       "997  {'latitude': 40.745231028373816, 'longitude': ...  [pickup, delivery]   \n",
       "998  {'latitude': 40.75717754, 'longitude': -73.968...  [pickup, delivery]   \n",
       "999  {'latitude': 40.68841151989921, 'longitude': -...  [pickup, delivery]   \n",
       "\n",
       "    price                                           location         phone  \\\n",
       "995    $$  {'address1': '224 W 104th St', 'address2': '',...  +12125791333   \n",
       "996     $  {'address1': '94 Prince St', 'address2': None,...                 \n",
       "997    $$  {'address1': '22-22 Jackson Ave', 'address2': ...  +17183925737   \n",
       "998    $$  {'address1': '222 E 53rd St', 'address2': '', ...  +12123085588   \n",
       "999  $$$$  {'address1': '294 Livingston St', 'address2': ...  +19179091122   \n",
       "\n",
       "      display_phone      distance  \n",
       "995  (212) 579-1333  10683.588057  \n",
       "996                   2158.990822  \n",
       "997  (718) 392-5737   5967.994581  \n",
       "998  (212) 308-5588   6147.662373  \n",
       "999  (917) 909-1122   2123.675412  "
      ]
     },
     "metadata": {},
     "output_type": "display_data"
    }
   ],
   "source": [
    "# load final results\n",
    "final_df = pd.read_json(JSON_FILE)\n",
    "display(final_df.head(), final_df.tail())"
   ]
  },
  {
   "cell_type": "code",
   "execution_count": null,
   "id": "155b5323-bec0-4c3f-8f6c-bb0dd9d6284a",
   "metadata": {},
   "outputs": [],
   "source": []
  }
 ],
 "metadata": {
  "kernelspec": {
   "display_name": "Python (dojo-env)",
   "language": "python",
   "name": "dojo-env"
  },
  "language_info": {
   "codemirror_mode": {
    "name": "ipython",
    "version": 3
   },
   "file_extension": ".py",
   "mimetype": "text/x-python",
   "name": "python",
   "nbconvert_exporter": "python",
   "pygments_lexer": "ipython3",
   "version": "3.10.10"
  },
  "widgets": {
   "application/vnd.jupyter.widget-state+json": {
    "state": {
     "2119c79e3cc3419f8143ccc9d965cb05": {
      "model_module": "@jupyter-widgets/controls",
      "model_module_version": "2.0.0",
      "model_name": "HTMLModel",
      "state": {
       "layout": "IPY_MODEL_c9f6681778f14e248d98d4ac5ce0ec58",
       "style": "IPY_MODEL_d918fa3328d74505b08ac5a60cdd17c1",
       "value": "  8%"
      }
     },
     "310304f2c7d2436eb255754a0b854cad": {
      "model_module": "@jupyter-widgets/controls",
      "model_module_version": "2.0.0",
      "model_name": "HTMLModel",
      "state": {
       "layout": "IPY_MODEL_86f3c5c640994ae3b75391bc52d50b1d",
       "style": "IPY_MODEL_9313113d41a74221bac3feab718e17c6",
       "value": " 50/595 [01:30&lt;20:37,  2.27s/it]"
      }
     },
     "337dbf549574474d96b9a29e8ad901d0": {
      "model_module": "@jupyter-widgets/controls",
      "model_module_version": "2.0.0",
      "model_name": "FloatProgressModel",
      "state": {
       "bar_style": "danger",
       "layout": "IPY_MODEL_c1b28ec073d9455d82f80b909d7675f4",
       "max": 595,
       "style": "IPY_MODEL_727e887433b5416aaf5603042ca06334",
       "value": 50
      }
     },
     "727e887433b5416aaf5603042ca06334": {
      "model_module": "@jupyter-widgets/controls",
      "model_module_version": "2.0.0",
      "model_name": "ProgressStyleModel",
      "state": {
       "description_width": ""
      }
     },
     "86f3c5c640994ae3b75391bc52d50b1d": {
      "model_module": "@jupyter-widgets/base",
      "model_module_version": "2.0.0",
      "model_name": "LayoutModel",
      "state": {}
     },
     "9313113d41a74221bac3feab718e17c6": {
      "model_module": "@jupyter-widgets/controls",
      "model_module_version": "2.0.0",
      "model_name": "HTMLStyleModel",
      "state": {
       "description_width": "",
       "font_size": null,
       "text_color": null
      }
     },
     "c1b28ec073d9455d82f80b909d7675f4": {
      "model_module": "@jupyter-widgets/base",
      "model_module_version": "2.0.0",
      "model_name": "LayoutModel",
      "state": {}
     },
     "c9f6681778f14e248d98d4ac5ce0ec58": {
      "model_module": "@jupyter-widgets/base",
      "model_module_version": "2.0.0",
      "model_name": "LayoutModel",
      "state": {}
     },
     "ccbec10304f34160bc2e36356b12a47e": {
      "model_module": "@jupyter-widgets/controls",
      "model_module_version": "2.0.0",
      "model_name": "HBoxModel",
      "state": {
       "children": [
        "IPY_MODEL_2119c79e3cc3419f8143ccc9d965cb05",
        "IPY_MODEL_337dbf549574474d96b9a29e8ad901d0",
        "IPY_MODEL_310304f2c7d2436eb255754a0b854cad"
       ],
       "layout": "IPY_MODEL_e82a0994e3764f8083e558096406829a"
      }
     },
     "d918fa3328d74505b08ac5a60cdd17c1": {
      "model_module": "@jupyter-widgets/controls",
      "model_module_version": "2.0.0",
      "model_name": "HTMLStyleModel",
      "state": {
       "description_width": "",
       "font_size": null,
       "text_color": null
      }
     },
     "e82a0994e3764f8083e558096406829a": {
      "model_module": "@jupyter-widgets/base",
      "model_module_version": "2.0.0",
      "model_name": "LayoutModel",
      "state": {}
     }
    },
    "version_major": 2,
    "version_minor": 0
   }
  }
 },
 "nbformat": 4,
 "nbformat_minor": 5
}
